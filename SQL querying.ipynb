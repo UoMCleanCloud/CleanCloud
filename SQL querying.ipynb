{
 "cells": [
  {
   "cell_type": "code",
   "execution_count": 1,
   "metadata": {
    "scrolled": true
   },
   "outputs": [],
   "source": [
    "import mysql.connector"
   ]
  },
  {
   "cell_type": "code",
   "execution_count": 2,
   "metadata": {},
   "outputs": [],
   "source": [
    "#establish connection to database\n",
    "connection = mysql.connector.connect(host=\"localhost\",\n",
    "                                     user=\"root\",         \n",
    "                                     password=\"\",\n",
    "                                     database=\"queenie\" )"
   ]
  },
  {
   "cell_type": "code",
   "execution_count": 3,
   "metadata": {},
   "outputs": [],
   "source": [
    "#creates cursor for different queries\n",
    "cursor = connection.cursor()"
   ]
  },
  {
   "cell_type": "code",
   "execution_count": 27,
   "metadata": {},
   "outputs": [
    {
     "name": "stdout",
     "output_type": "stream",
     "text": [
      "('06 Feb', '50', 1)\n",
      "('07 Feb', '32', 2)\n",
      "('08 Feb', '20', 3)\n"
     ]
    }
   ],
   "source": [
    "#prints all data (inc. id/index) in temperature table\n",
    "cursor.execute(\"SELECT * FROM temperature\")\n",
    "result = cursor.fetchall()\n",
    "\n",
    "for x in result:\n",
    "    print(x)"
   ]
  },
  {
   "cell_type": "code",
   "execution_count": 28,
   "metadata": {
    "scrolled": true
   },
   "outputs": [
    {
     "name": "stdout",
     "output_type": "stream",
     "text": [
      "('06 Feb', '50')\n",
      "('07 Feb', '32')\n",
      "('08 Feb', '20')\n"
     ]
    }
   ],
   "source": [
    "#prints selected columns(specify column name) in temperature table\n",
    "cursor.execute(\"SELECT date, temperature FROM temperature\")\n",
    "result = cursor.fetchall()\n",
    "\n",
    "for x in result:\n",
    "    print(x)"
   ]
  },
  {
   "cell_type": "code",
   "execution_count": 29,
   "metadata": {},
   "outputs": [
    {
     "name": "stdout",
     "output_type": "stream",
     "text": [
      "('06 Feb', '50', 1)\n"
     ]
    }
   ],
   "source": [
    "#prints first line in temperature table\n",
    "cursor.execute(\"SELECT * FROM temperature\")\n",
    "result = cursor.fetchone()\n",
    "\n",
    "print(result)"
   ]
  },
  {
   "cell_type": "code",
   "execution_count": null,
   "metadata": {},
   "outputs": [],
   "source": [
    "connection.close()"
   ]
  }
 ],
 "metadata": {
  "kernelspec": {
   "display_name": "Python 3",
   "language": "python",
   "name": "python3"
  },
  "language_info": {
   "codemirror_mode": {
    "name": "ipython",
    "version": 3
   },
   "file_extension": ".py",
   "mimetype": "text/x-python",
   "name": "python",
   "nbconvert_exporter": "python",
   "pygments_lexer": "ipython3",
   "version": "3.7.4"
  }
 },
 "nbformat": 4,
 "nbformat_minor": 2
}
